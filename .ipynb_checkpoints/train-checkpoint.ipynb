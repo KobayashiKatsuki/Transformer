{
 "cells": [
  {
   "cell_type": "code",
   "execution_count": 10,
   "metadata": {},
   "outputs": [],
   "source": [
    "import tensorflow as tf\n",
    "from tensorflow import keras\n",
    "from tensorflow.keras.layers import Dense, Dropout\n",
    "import pandas as pd\n",
    "\n",
    "from transformer import Transformer"
   ]
  },
  {
   "cell_type": "code",
   "execution_count": 8,
   "metadata": {},
   "outputs": [],
   "source": [
    "class MyNeuralNet(tf.keras.models.Model):\n",
    "    def __init__(self, hidden_dim: int, *args, **kwargs):\n",
    "        super().__init__(*args, **kwargs)\n",
    "        self.nn = Dense(hiden_dim, use_bias=True, activation=tf.nn.relu, name='mynn')\n",
    "        \n",
    "    \n",
    "    def call(self, ):\n",
    "        return\n"
   ]
  },
  {
   "cell_type": "code",
   "execution_count": null,
   "metadata": {},
   "outputs": [],
   "source": [
    "vocab_size = 10\n",
    "hidden_dim = 2\n",
    "max_len = 5\n",
    "\n",
    "graph = tf.Graph()\n",
    "with graph.as_default():\n",
    "    c = tf.constant([1.0, 2.0])\n"
   ]
  },
  {
   "cell_type": "code",
   "execution_count": 51,
   "metadata": {},
   "outputs": [
    {
     "name": "stdout",
     "output_type": "stream",
     "text": [
      "[[-0.7206801  -0.65568945]\n",
      " [-0.79136744 -0.35736276]\n",
      " [ 0.44923607 -0.01663816]\n",
      " [ 0.5010284   0.97587128]\n",
      " [-0.68846944  0.64366413]\n",
      " [ 0.61395574 -0.93975778]\n",
      " [ 0.31327143 -0.45900566]\n",
      " [-0.33845702 -0.69454539]\n",
      " [ 0.1476994  -0.95415137]\n",
      " [-0.46709891  0.03919218]\n",
      " [ 0.63912272 -0.03544609]\n",
      " [-0.30871248 -0.71048123]\n",
      " [-0.17923305 -0.22119217]\n",
      " [ 0.5552638  -0.50094407]\n",
      " [-0.74626644  0.16484856]\n",
      " [ 0.55855159  0.52149932]\n",
      " [-0.57084926  0.96844322]\n",
      " [ 0.27438691 -0.9120016 ]]\n",
      "[[ 0.87636601  0.44650165]\n",
      " [-0.83336028  0.5859546 ]]\n"
     ]
    }
   ],
   "source": [
    "from sklearn.model_selection import train_test_split\n",
    "\n",
    "df = pd.read_csv('tfsample.csv', header=None)\n",
    "x = df[[0,1]]\n",
    "y = df[2]\n",
    "sample = np.array(x)\n",
    "label = keras.utils.to_categorical(y)\n",
    "\n",
    "train_x, test_x, train_y, test_y = train_test_split(sample, label, test_size=0.1)\n",
    "\n",
    "print(train_x)\n",
    "print(test_x)"
   ]
  },
  {
   "cell_type": "code",
   "execution_count": null,
   "metadata": {},
   "outputs": [],
   "source": []
  },
  {
   "cell_type": "code",
   "execution_count": null,
   "metadata": {},
   "outputs": [],
   "source": []
  }
 ],
 "metadata": {
  "kernelspec": {
   "display_name": "TensorFlow",
   "language": "python",
   "name": "py36"
  },
  "language_info": {
   "codemirror_mode": {
    "name": "ipython",
    "version": 3
   },
   "file_extension": ".py",
   "mimetype": "text/x-python",
   "name": "python",
   "nbconvert_exporter": "python",
   "pygments_lexer": "ipython3",
   "version": "3.6.12"
  }
 },
 "nbformat": 4,
 "nbformat_minor": 4
}
